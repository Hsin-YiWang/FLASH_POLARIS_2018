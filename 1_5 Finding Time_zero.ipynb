{
 "cells": [
  {
   "cell_type": "markdown",
   "metadata": {
    "collapsed": true
   },
   "source": [
    "## We scan the time delay stage to find the time_Zero \n",
    "\n",
    "This log is part of the data_analysis for 1st POLARIS XFEL beamtime at Desy, FLASH (Oct.2018)\n",
    "\n",
    "(1) The optical laser will come in 10 Hz and xFEL comes in 10 Hz.\n",
    "\n",
    "(2) we have two laser signals in HDF5 file, and in this script we will use the diode signal at the instrument side.\n",
    "\n",
    "(3) !!!! we do a contineous slow delay scan !!!! and the delay scan rate is constant.\n",
    "\n",
    "(4) Ni 3P peak will shift towrad higher kinetic energy position due to 2 electron excitation.\n",
    "\n",
    "----------- \n",
    " Created by  Hsin-Yi Wang (wang.hy@fysik.su.se), Date: 06-Oct-2018\n",
    " \n",
    "- Note: This script shuld be operated under Python 3 environment "
   ]
  },
  {
   "cell_type": "markdown",
   "metadata": {},
   "source": [
    "### Import modules and useful function"
   ]
  },
  {
   "cell_type": "code",
   "execution_count": 1,
   "metadata": {
    "collapsed": true
   },
   "outputs": [],
   "source": [
    "import numpy as np\n",
    "import random\n",
    "from matplotlib import pyplot as plt\n",
    "from scipy.optimize import curve_fit\n",
    "import h5py\n",
    "import sys\n",
    "from os import walk\n",
    "import os.path\n",
    "from mpl_toolkits.axes_grid1 import make_axes_locatable\n",
    "\n",
    "sys.path.insert(0, '../src/')\n",
    "import fit_data_tools\n",
    "from fit_data_tools import *\n",
    "import save_2_IGOR_file_05 as sif"
   ]
  },
  {
   "cell_type": "markdown",
   "metadata": {},
   "source": [
    "### Import parameters "
   ]
  },
  {
   "cell_type": "code",
   "execution_count": 2,
   "metadata": {
    "collapsed": true
   },
   "outputs": [],
   "source": [
    "files = [1] # file number, we store the data into Time_zero folder\n",
    "thr_camera = 10\n",
    "Int_time = float (0.1) # interval delay gap, unit = fs"
   ]
  },
  {
   "cell_type": "markdown",
   "metadata": {},
   "source": [
    "### Start to do data analysis and polt out the filgure"
   ]
  },
  {
   "cell_type": "code",
   "execution_count": 13,
   "metadata": {},
   "outputs": [
    {
     "name": "stdout",
     "output_type": "stream",
     "text": [
      "['test.h5']\n"
     ]
    },
    {
     "data": {
      "image/png": "[encoded data removed]",
      "text/plain": [
       "<matplotlib.figure.Figure at 0x105a28c18>"
      ]
     },
     "metadata": {},
     "output_type": "display_data"
    },
    {
     "data": {
      "image/png": "[encoded data removed]",
      "text/plain": [
       "<matplotlib.figure.Figure at 0x105a126d8>"
      ]
     },
     "metadata": {},
     "output_type": "display_data"
    }
   ],
   "source": [
    "######################\n",
    "# Load the data file #\n",
    "######################\n",
    "data_path = '../DATA/'+'Time_zero%03d/' %files[0]\n",
    "if not os.path.exists(data_path) :\n",
    "     raise NameError('Check data_path! It does not exist!')\n",
    "data_names = discover_datas(data_path)\n",
    "print (data_names)\n",
    "\n",
    "#############################################\n",
    "# Creating empty matirx for collecting data #\n",
    "#############################################\n",
    "Total_profile = []\n",
    "Total_V = []\n",
    "Total_delay = []\n",
    "Binned_profile = []\n",
    "Binned_delay = []\n",
    "\n",
    "################\n",
    "# Data process #\n",
    "################\n",
    "for i in range(len(data_names)):\n",
    "    h5file = h5py.File(data_path+data_names[i], 'r')\n",
    "    Image = h5file['/FL1/Experiment/Camera/PG/Basler FW 1/image/'].value\n",
    "    Voltage_num = h5file['/FL1/Experiment/PG/SIS8300 100MHz ADC/CH6/TD/'].value\n",
    "    #Delay_stage0 = h5file['/FL1/Experiment/Pump probe laser/laser delay'].value\n",
    "    Delay_stage = h5file['/FL1/Experiment/Pump probe laser/delay line IK220.0/ENC'].value\n",
    "    \n",
    "    \n",
    "    Image[Image<thr_camera] = 0\n",
    "    for m in np.arange((Image.shape[0])):\n",
    "        Ind_profile = np.sum(Image[m,:,:],axis = 1)\n",
    "        Total_profile.append(Ind_profile)\n",
    "    \n",
    "    Ind_voltage_num = np.average(Voltage_num, axis = 1)\n",
    "    Ind_voltage_num = Ind_voltage_num*650/(2**16)\n",
    "    Total_V.extend(Ind_voltage_num)\n",
    "            \n",
    "    Total_delay.extend(Delay_stage[:,1])\n",
    "\n",
    "    \n",
    "Total_profile = np.array(Total_profile) \n",
    "Total_V = np.array(Total_V)\n",
    "Total_V = np.nan_to_num(Total_V)\n",
    "Total_delay = np.array(Total_delay)\n",
    "Total_delay = np.nan_to_num(Total_delay)\n",
    "\n",
    "Total_profile = Total_profile[Total_V>10]\n",
    "Total_delay = Total_delay[Total_V>10]\n",
    "############################################\n",
    "# Plot out the 2D map data wothout binning #\n",
    "############################################\n",
    "\n",
    "plt.figure(figsize=[12,6])   \n",
    "ax = plt.subplot(1,1,1)\n",
    "plt.imshow(Total_profile,vmin=0,vmax=Total_profile.max(), origin='lower', interpolation='bicubic',cmap='hot',alpha = 0.9)\n",
    "plt.xlabel('pixels',size=12)\n",
    "plt.ylabel('shots',size=12)\n",
    "plt.title('raw data')\n",
    "plt.xlim(0,640)\n",
    "divider = make_axes_locatable(ax)\n",
    "cax = divider.append_axes(\"right\", size=\"4%\", pad=0.1)\n",
    "plt.colorbar(cax=cax)\n",
    "ax.set_aspect(aspect=0.001)\n",
    "plt.show()\n",
    "\n",
    "###########################################################\n",
    "# Start to bin the data into desired delay time intervals #\n",
    "###########################################################\n",
    "Delay_start = Total_delay[0]\n",
    "Delay_end = Total_delay[-1]\n",
    "Binned_delay.append(Delay_start)\n",
    "\n",
    "d = 0\n",
    "while Delay_start + d*Int_time < Delay_end:\n",
    "    mask = np.all([Total_delay >= (Delay_start + d*Int_time), Total_delay < (Delay_start + (d+1)*Int_time)], axis = 0)\n",
    "    Int_Binned_profile = np.average(Total_profile[mask], axis = 0)\n",
    "    Binned_profile.append(Int_Binned_profile)\n",
    "    Binned_delay_mean = float(np.mean(Total_delay[mask]))\n",
    "    Binned_delay.append(Binned_delay_mean)\n",
    "    d = d + 1\n",
    "\n",
    "Binned_profile = np.array(Binned_profile)\n",
    "Binned_delay = np.array(Binned_delay)\n",
    "\n",
    "##########################################\n",
    "# Plot out the 2D map data after binning #\n",
    "##########################################\n",
    "a = np.arange(0,639.1,1)\n",
    "b = Binned_delay\n",
    "[x,y] = np.meshgrid(a,b)\n",
    "z =Binned_profile\n",
    "plt.figure(figsize=[12,6])   \n",
    "ax = plt.subplot(1,1,1)\n",
    "plt.pcolor(x,y,z, vmax = z.max(), cmap = 'hot')\n",
    "plt.xlabel('pixels',size=12)\n",
    "plt.ylabel('delay stage position',size=12)\n",
    "plt.title('binned data')\n",
    "plt.colorbar()\n",
    "ax.set_aspect(aspect=10)\n",
    "plt.show()"
   ]
  },
  {
   "cell_type": "code",
   "execution_count": null,
   "metadata": {
    "collapsed": true
   },
   "outputs": [],
   "source": []
  }
 ],
 "metadata": {
  "kernelspec": {
   "display_name": "Python 3",
   "language": "python",
   "name": "python3"
  },
  "language_info": {
   "codemirror_mode": {
    "name": "ipython",
    "version": 3
   },
   "file_extension": ".py",
   "mimetype": "text/x-python",
   "name": "python",
   "nbconvert_exporter": "python",
   "pygments_lexer": "ipython3",
   "version": "3.6.3"
  }
 },
 "nbformat": 4,
 "nbformat_minor": 2
}
