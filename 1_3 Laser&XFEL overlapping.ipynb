{
 "cells": [
  {
   "cell_type": "markdown",
   "metadata": {},
   "source": [
    "## We use camera to see the overlapping between XFEL and Laser\n",
    "\n",
    "This log is part of the data_analysis for 1st POLARIS XFEL beamtime at Desy, FLASH (Oct.2018)\n",
    "\n",
    "we try to use camera to see the overlapping between XFEL and Laser images\n",
    "\n",
    "----------- \n",
    " Created by  Hsin-Yi Wang (wang.hy@fysik.su.se), Date: 30-Sep-2018\n",
    "- Note: This script shuld be operated under Python 3 environment "
   ]
  },
  {
   "cell_type": "markdown",
   "metadata": {},
   "source": [
    "### Import modules and useful function"
   ]
  },
  {
   "cell_type": "code",
   "execution_count": null,
   "metadata": {
    "collapsed": true
   },
   "outputs": [],
   "source": [
    "import numpy as np\n",
    "import random\n",
    "from matplotlib import pyplot as plt\n",
    "from scipy.optimize import curve_fit\n",
    "import h5py\n",
    "import sys\n",
    "from os import walk\n",
    "#from mpl_toolkits.axes_grid1 import make_axes_locatable\n",
    "\n",
    "sys.path.insert(0, '../src/')\n",
    "import fit_data_tools\n",
    "from fit_data_tools import *"
   ]
  },
  {
   "cell_type": "markdown",
   "metadata": {},
   "source": [
    "### Plot out XFEL and Laser images"
   ]
  },
  {
   "cell_type": "code",
   "execution_count": null,
   "metadata": {
    "collapsed": true
   },
   "outputs": [],
   "source": [
    "data_path = '/Users/hsin-yiwang/Desktop/Insitucell_for_XPS/FlashBeamtime/DATA/'\n",
    "data_names = discover_datas(data_path)\n",
    "print (data_names)\n",
    "XFEL_h5file = h5py.File(data_path+data_names[0], 'r')\n",
    "XFEL_image = XFEL_h5file['/Laser/BaslerImage2'].value\n",
    "Laser_h5file = h5py.File(data_path+data_names[1], 'r')\n",
    "Laser_image = Laser_h5file['/Laser/BaslerImage2'].value\n",
    "\n",
    "thr = 3\n",
    "XFEL_image[XFEL_image<thr]=0\n",
    "Laser_image[Laser_image<thr]=0\n",
    "plt.figure(figsize=[10,8])\n",
    "\n",
    "#plt.subplot(2,1,1)\n",
    "n_shots = XFEL_image.shape[0]\n",
    "Avg_XFEL_image = np.sum(XFEL_image, axis = 0)/n_shots\n",
    "plt.imshow(Avg_XFEL_image,vmin=0,vmax=5, origin='lower', interpolation='bicubic',cmap='Reds',alpha = 0.9)\n",
    "\n",
    "#plt.subplot(2,1,2)\n",
    "n_shots = Laser_image.shape[0]\n",
    "Avg_Laser_image = np.sum(Laser_image, axis = 0)/n_shots\n",
    "plt.imshow(Avg_Laser_image,vmin=0,vmax=5, origin='lower', interpolation='bicubic',cmap='Blues',alpha = 0.5)\n",
    "\n",
    "plt.title('Two random XAS images overlapping',size=16)\n",
    "plt.xlabel('X_pixels',size=16)\n",
    "plt.ylabel('Y_pixels',size=16)\n",
    "plt.xlim(0,480)\n",
    "plt.ylim(0,640)\n",
    "\n",
    "plt.show()"
   ]
  }
 ],
 "metadata": {
  "kernelspec": {
   "display_name": "Python 3",
   "language": "python",
   "name": "python3"
  },
  "language_info": {
   "codemirror_mode": {
    "name": "ipython",
    "version": 3
   },
   "file_extension": ".py",
   "mimetype": "text/x-python",
   "name": "python",
   "nbconvert_exporter": "python",
   "pygments_lexer": "ipython3",
   "version": "3.6.3"
  }
 },
 "nbformat": 4,
 "nbformat_minor": 2
}
